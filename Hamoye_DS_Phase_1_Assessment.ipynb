{
  "nbformat": 4,
  "nbformat_minor": 0,
  "metadata": {
    "colab": {
      "name": "Untitled1.ipynb",
      "provenance": [],
      "authorship_tag": "ABX9TyMGJOIbNUQEjjmrhhDsingd",
      "include_colab_link": true
    },
    "kernelspec": {
      "name": "python3",
      "display_name": "Python 3"
    }
  },
  "cells": [
    {
      "cell_type": "markdown",
      "metadata": {
        "id": "view-in-github",
        "colab_type": "text"
      },
      "source": [
        "<a href=\"https://colab.research.google.com/github/JPrimeAce/Hamoye_AI_labs-DS_Internship_Phase1/blob/master/Hamoye_DS_Phase_1_Assessment.ipynb\" target=\"_parent\"><img src=\"https://colab.research.google.com/assets/colab-badge.svg\" alt=\"Open In Colab\"/></a>"
      ]
    },
    {
      "cell_type": "code",
      "metadata": {
        "id": "_629GoAE9gyI",
        "colab_type": "code",
        "colab": {}
      },
      "source": [
        "import numpy as np\n",
        "import pandas as pd "
      ],
      "execution_count": null,
      "outputs": []
    },
    {
      "cell_type": "code",
      "metadata": {
        "id": "AS5yQ9ouNtpG",
        "colab_type": "code",
        "colab": {}
      },
      "source": [
        "url = 'https://bit.ly/HDSC-StageOneDataset'"
      ],
      "execution_count": null,
      "outputs": []
    },
    {
      "cell_type": "code",
      "metadata": {
        "id": "BUpkTl_rNcUI",
        "colab_type": "code",
        "colab": {}
      },
      "source": [
        "fuel_data = pd.read_csv(url)"
      ],
      "execution_count": null,
      "outputs": []
    }
  ]
}